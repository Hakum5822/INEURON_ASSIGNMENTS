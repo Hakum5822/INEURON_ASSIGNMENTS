{
  "nbformat": 4,
  "nbformat_minor": 0,
  "metadata": {
    "colab": {
      "name": "Assignment3_Harish.ipynb",
      "provenance": [],
      "collapsed_sections": []
    },
    "kernelspec": {
      "name": "python3",
      "display_name": "Python 3"
    }
  },
  "cells": [
    {
      "cell_type": "code",
      "metadata": {
        "id": "YywrcUhfyf2g",
        "colab_type": "code",
        "colab": {}
      },
      "source": [
        "#1.1 Write a Python Program to implement your own myreduce() function which works exactly like Python's built-in function reduce()"
      ],
      "execution_count": null,
      "outputs": []
    },
    {
      "cell_type": "code",
      "metadata": {
        "id": "6AelAjg4yvKa",
        "colab_type": "code",
        "colab": {
          "base_uri": "https://localhost:8080/",
          "height": 34
        },
        "outputId": "04180db5-2b9c-4978-e5fd-9fa95dba4d77"
      },
      "source": [
        "def myreduce(func,container,default=None):\n",
        "  cont = iter(container)\n",
        "  if default == None:\n",
        "    val = next(cont)\n",
        "  else:\n",
        "    val = default\n",
        "\n",
        "  for i in cont:\n",
        "    val = func(val,i)\n",
        "  return val\n",
        "\n",
        "if __name__ == \"__main__\":\n",
        "  lis = [1,2,3,4,5]   \n",
        "  value = myreduce(lambda x,y:x+y,lis)\n",
        "  print(\"The reduce number is:\",value)\n"
      ],
      "execution_count": null,
      "outputs": [
        {
          "output_type": "stream",
          "text": [
            "The reduce number is: 15\n"
          ],
          "name": "stdout"
        }
      ]
    },
    {
      "cell_type": "code",
      "metadata": {
        "id": "JwZYgCjT3ZxY",
        "colab_type": "code",
        "colab": {}
      },
      "source": [
        "#1.2 Write a Python program to implement your own myfilter() function which works exactly like Python's built-in function filter() "
      ],
      "execution_count": null,
      "outputs": []
    },
    {
      "cell_type": "code",
      "metadata": {
        "id": "YerWGa-LCbnz",
        "colab_type": "code",
        "colab": {
          "base_uri": "https://localhost:8080/",
          "height": 34
        },
        "outputId": "477ff458-c747-4d90-a437-026d8a2c5fc6"
      },
      "source": [
        "def myFilter(func,iterator):\n",
        "    it = iter(iterator)\n",
        "    for i in it:\n",
        "        val = func(i)\n",
        "        if val:\n",
        "          yield i\n",
        "            \n",
        "#lis = [1,2,3,4,5,6]\n",
        "value = list(myFilter(lambda x:x%2 == 0,range(1,10)))\n",
        "print(value)"
      ],
      "execution_count": null,
      "outputs": [
        {
          "output_type": "stream",
          "text": [
            "[2, 4, 6, 8]\n"
          ],
          "name": "stdout"
        }
      ]
    },
    {
      "cell_type": "code",
      "metadata": {
        "id": "oAK6Bz2oJGID",
        "colab_type": "code",
        "colab": {}
      },
      "source": [
        "#2. Implement List comprehensions to produce the following lists. "
      ],
      "execution_count": null,
      "outputs": []
    },
    {
      "cell_type": "code",
      "metadata": {
        "id": "LZOX0jUAJSTM",
        "colab_type": "code",
        "colab": {
          "base_uri": "https://localhost:8080/",
          "height": 34
        },
        "outputId": "2c5e87fe-7322-4e11-86a4-e63fe6d7b926"
      },
      "source": [
        "# pattern1\n",
        "\n",
        "res = [(x*i) for x in ['x','y','z']  for i in range(1,5)]\n",
        "print(res) "
      ],
      "execution_count": null,
      "outputs": [
        {
          "output_type": "stream",
          "text": [
            "['x', 'xx', 'xxx', 'xxxx', 'y', 'yy', 'yyy', 'yyyy', 'z', 'zz', 'zzz', 'zzzz']\n"
          ],
          "name": "stdout"
        }
      ]
    },
    {
      "cell_type": "code",
      "metadata": {
        "id": "wSJeE88wJ9Lh",
        "colab_type": "code",
        "colab": {}
      },
      "source": [
        "#pattern2"
      ],
      "execution_count": null,
      "outputs": []
    },
    {
      "cell_type": "code",
      "metadata": {
        "id": "ozZ0khwULkqR",
        "colab_type": "code",
        "colab": {
          "base_uri": "https://localhost:8080/",
          "height": 34
        },
        "outputId": "1e5d42c0-69bf-4398-935c-fb703cfe6737"
      },
      "source": [
        "res = [(x*i)  for i in range(1,5) for x in ['x','y','z']]\n",
        "print(res)"
      ],
      "execution_count": null,
      "outputs": [
        {
          "output_type": "stream",
          "text": [
            "['x', 'y', 'z', 'xx', 'yy', 'zz', 'xxx', 'yyy', 'zzz', 'xxxx', 'yyyy', 'zzzz']\n"
          ],
          "name": "stdout"
        }
      ]
    },
    {
      "cell_type": "code",
      "metadata": {
        "id": "6uBoszKyN8-i",
        "colab_type": "code",
        "colab": {}
      },
      "source": [
        "#  pattern 3"
      ],
      "execution_count": null,
      "outputs": []
    },
    {
      "cell_type": "code",
      "metadata": {
        "id": "g8vaD7c0OU5V",
        "colab_type": "code",
        "colab": {
          "base_uri": "https://localhost:8080/",
          "height": 34
        },
        "outputId": "9a2a4932-7f5e-4eb1-c410-05519ffcad3c"
      },
      "source": [
        "lis1 = [[i+j] for i in range(2,5) for j in range(0, 3)]\n",
        "lis2 = [[i,i+1,i+2,i+3] for i in range(2,6)]\n",
        "\n",
        "print(lis1,lis2)\n"
      ],
      "execution_count": null,
      "outputs": [
        {
          "output_type": "stream",
          "text": [
            "[[2], [3], [4], [3], [4], [5], [4], [5], [6]] [[2, 3, 4, 5], [3, 4, 5, 6], [4, 5, 6, 7], [5, 6, 7, 8]]\n"
          ],
          "name": "stdout"
        }
      ]
    },
    {
      "cell_type": "code",
      "metadata": {
        "id": "1sFKm2CdPlcH",
        "colab_type": "code",
        "colab": {
          "base_uri": "https://localhost:8080/",
          "height": 34
        },
        "outputId": "64426c40-3be3-454b-a156-f4c751154d50"
      },
      "source": [
        "# Pattern 4\n",
        "\n",
        "res = [(k,j) for j in range(1,4) for k in range(1,4)]\n",
        "print(res)\n"
      ],
      "execution_count": null,
      "outputs": [
        {
          "output_type": "stream",
          "text": [
            "[(1, 1), (2, 1), (3, 1), (1, 2), (2, 2), (3, 2), (1, 3), (2, 3), (3, 3)]\n"
          ],
          "name": "stdout"
        }
      ]
    },
    {
      "cell_type": "code",
      "metadata": {
        "id": "YOnpbEYDQo85",
        "colab_type": "code",
        "colab": {}
      },
      "source": [
        ""
      ],
      "execution_count": null,
      "outputs": []
    }
  ]
}