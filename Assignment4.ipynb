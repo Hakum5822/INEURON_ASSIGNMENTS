{
  "nbformat": 4,
  "nbformat_minor": 0,
  "metadata": {
    "colab": {
      "name": "Assignment4.ipynb",
      "provenance": [],
      "collapsed_sections": []
    },
    "kernelspec": {
      "name": "python3",
      "display_name": "Python 3"
    }
  },
  "cells": [
    {
      "cell_type": "code",
      "metadata": {
        "id": "NXqoc5WQHZI1",
        "colab_type": "code",
        "colab": {}
      },
      "source": [
        "#1.1 Write a Python Program(with class concepts) to find the area of the triangle using the below formula. \n",
        "#area = (s*(s-a)*(s-b)*(s-c)) ** 0.5 \n",
        "#Function to take the length of the sides of triangle from user should be defined in the parent class and \n",
        "#function to calculate the area should be defined in subclass. "
      ],
      "execution_count": null,
      "outputs": []
    },
    {
      "cell_type": "code",
      "metadata": {
        "id": "bfx8sK88Igkc",
        "colab_type": "code",
        "colab": {
          "base_uri": "https://localhost:8080/",
          "height": 85
        },
        "outputId": "38090a96-ab54-4dfd-9b5b-af498eb54214"
      },
      "source": [
        "from abc import ABC,abstractmethod\n",
        "class Shape(ABC):\n",
        "  def __init__(self,a,b,c=None):\n",
        "    self.a = a\n",
        "    self.b = b\n",
        "    self.c = c\n",
        "  @abstractmethod \n",
        "  def area(self):\n",
        "    None\n",
        "      \n",
        "class Traingle(Shape):\n",
        "  def area(self):\n",
        "    self.s = (self.a+self.b+self.c)/2\n",
        "    area1 = (self.s*(self.s-self.a)*(self.s-self.b)*(self.s-self.c)) ** 0.5 \n",
        "    return area1\n",
        "\n",
        "try:\n",
        "    a = float(input(\"Enter first side of the traingle : \"))\n",
        "    b = float(input(\"Enter Second side of the traingle : \"))\n",
        "    c = float(input(\"Enter Third side of the traingle : \"))\n",
        "    triobj = Traingle(a,b,c)\n",
        "    Area = triobj.area()\n",
        "    print(\"The area of the traingle is :\",Area)\n",
        "\n",
        "except Exception as e:\n",
        "  print(f\"The error is - '{e}'\")\n"
      ],
      "execution_count": null,
      "outputs": [
        {
          "output_type": "stream",
          "text": [
            "Enter first side of the traingle : 10\n",
            "Enter Second side of the traingle : 12\n",
            "Enter Third side of the traingle : 10\n",
            "The area of the traingle is : 48.0\n"
          ],
          "name": "stdout"
        }
      ]
    },
    {
      "cell_type": "code",
      "metadata": {
        "id": "FDGnRV3yJdMJ",
        "colab_type": "code",
        "colab": {}
      },
      "source": [
        "#1.2 Write a function filter_long_words() that takes a list of words and an integer n and returns the list of words that are longer than n. "
      ],
      "execution_count": null,
      "outputs": []
    },
    {
      "cell_type": "code",
      "metadata": {
        "id": "8NNxG75hqfP4",
        "colab_type": "code",
        "colab": {
          "base_uri": "https://localhost:8080/",
          "height": 136
        },
        "outputId": "6c5c9c11-5a61-4d90-d6b3-00ee92326746"
      },
      "source": [
        "def filter_long_words(lis,n):\n",
        "  lis1 = [i for i in lis if len(i) > n]\n",
        "  return lis1\n",
        "      \n",
        "#Initialization\n",
        "cnt = 1\n",
        "lis = []\n",
        "\n",
        "try:\n",
        "  var1 = int(input(\"Enter the length of the list:\"))\n",
        "  while cnt <= var1:\n",
        "    lis.append(input(f\"Enter the word{cnt}:\"))\n",
        "    cnt += 1\n",
        "\n",
        "  # Word search length\n",
        "  n = int(input(\"Enter the word length to be searched:\"))\n",
        "  if n>0:\n",
        "    words = filter_long_words(lis,n)\n",
        "    if  len(words) > 0:\n",
        "      print('The matched words are:',tuple(words))\n",
        "    else:\n",
        "      print('No words found from the list')  \n",
        "except Exception as e:\n",
        "  print('The error is',e)      \n"
      ],
      "execution_count": null,
      "outputs": [
        {
          "output_type": "stream",
          "text": [
            "Enter the length of the list:4\n",
            "Enter the word1:Harish\n",
            "Enter the word2:Reshnav\n",
            "Enter the word3:Kumar\n",
            "Enter the word4:pandu\n",
            "Enter the word length to be searched:5\n",
            "The matched words are: ('Harish', 'Reshnav')\n"
          ],
          "name": "stdout"
        }
      ]
    },
    {
      "cell_type": "code",
      "metadata": {
        "id": "vtrh2GZsr2Jy",
        "colab_type": "code",
        "colab": {}
      },
      "source": [
        "#2.1 Write a Python program using function concept that maps list of words into a list of integers representing the lengths of the corresponding words."
      ],
      "execution_count": null,
      "outputs": []
    },
    {
      "cell_type": "code",
      "metadata": {
        "id": "48vKMZRgyO8o",
        "colab_type": "code",
        "colab": {
          "base_uri": "https://localhost:8080/",
          "height": 119
        },
        "outputId": "4468b52c-7e58-4cf4-e12d-28c36ef57887"
      },
      "source": [
        "def len_of_words(lis):\n",
        "  lis1 = [len(i) for i in lis]    \n",
        "  return lis1\n",
        "  \n",
        "#Initialization\n",
        "cnt = 1\n",
        "lis = []\n",
        "\n",
        "try:\n",
        "  var1 = int(input(\"Enter the length of the list:\"))\n",
        "  while cnt <= var1:\n",
        "    lis.append(input(f\"Enter the word{cnt}:\"))\n",
        "    cnt += 1\n",
        "  print(\"The length of the words in a given list are\",len_of_words(lis))\n",
        "except Exception as e:\n",
        "  print('The error is',e)       "
      ],
      "execution_count": null,
      "outputs": [
        {
          "output_type": "stream",
          "text": [
            "Enter the length of the list:4\n",
            "Enter the word1:harish\n",
            "Enter the word2:kumar\n",
            "Enter the word3:abc\n",
            "Enter the word4:reshnav\n",
            "The length of the words in a given list are [6, 5, 3, 7]\n"
          ],
          "name": "stdout"
        }
      ]
    },
    {
      "cell_type": "code",
      "metadata": {
        "id": "cvmxk0I7zjpa",
        "colab_type": "code",
        "colab": {}
      },
      "source": [
        "#2.2 Write a Python function which takes a character (i.e. a string of length 1) and returns True if it is a vowel, False otherwise. \n"
      ],
      "execution_count": null,
      "outputs": []
    },
    {
      "cell_type": "code",
      "metadata": {
        "id": "BFRpZhys25iE",
        "colab_type": "code",
        "colab": {
          "base_uri": "https://localhost:8080/",
          "height": 289
        },
        "outputId": "2dc6c1d9-b8dc-4f23-e3b4-325e9d8b4bab"
      },
      "source": [
        "def vowel_check(char):\n",
        "  char = char.lower()\n",
        "  if char in ['a','e','i','o','u']:\n",
        "    return True\n",
        "  else:\n",
        "    return False\n",
        "\n",
        "try:\n",
        "  c = 'y'\n",
        "  while c == 'y' or c == 'Y':\n",
        "    char = input(\"Enter charecter:\")\n",
        "    if len(char) != 1 or char.isalpha() != True:\n",
        "      print(f\"The input '{char}' is  not a charecter\")\n",
        "    elif vowel_check(char):\n",
        "      print(f\"The charecter '{char}' is  Vowel\")\n",
        "    else:\n",
        "      print(f\"The charecter '{char}' is not a Vowel\") \n",
        "    c = input(\"Do you want to continue (Y/N):\") \n",
        "except Exception as e:\n",
        "  print('Enter only the charecter:',e)  \n",
        "finally:\n",
        "  print(\"The program is finished\")      "
      ],
      "execution_count": 4,
      "outputs": [
        {
          "output_type": "stream",
          "text": [
            "Enter charecter:a\n",
            "The charecter 'a' is  Vowel\n",
            "Do you want to continue (Y/N):y\n",
            "Enter charecter:r\n",
            "The charecter 'r' is not a Vowel\n",
            "Do you want to continue (Y/N):y\n",
            "Enter charecter:3\n",
            "The input '3' is  not a charecter\n",
            "Do you want to continue (Y/N):y\n",
            "Enter charecter:ie\n",
            "The input 'ie' is  not a charecter\n",
            "Do you want to continue (Y/N):y\n",
            "Enter charecter:u\n",
            "The charecter 'u' is  Vowel\n",
            "Do you want to continue (Y/N):n\n",
            "The program is finished\n"
          ],
          "name": "stdout"
        }
      ]
    },
    {
      "cell_type": "code",
      "metadata": {
        "id": "HUsjl-F65QRt",
        "colab_type": "code",
        "colab": {}
      },
      "source": [
        ""
      ],
      "execution_count": null,
      "outputs": []
    }
  ]
}