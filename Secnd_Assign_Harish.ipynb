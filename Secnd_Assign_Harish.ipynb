{
  "nbformat": 4,
  "nbformat_minor": 0,
  "metadata": {
    "colab": {
      "name": "Secnd_Assign_Harish.ipynb",
      "provenance": [],
      "collapsed_sections": []
    },
    "kernelspec": {
      "name": "python3",
      "display_name": "Python 3"
    }
  },
  "cells": [
    {
      "cell_type": "code",
      "metadata": {
        "id": "WcNDKjGWsDcm",
        "colab_type": "code",
        "colab": {}
      },
      "source": [
        "#Excercise 1 Program to print the pattern using nested for loop"
      ],
      "execution_count": null,
      "outputs": []
    },
    {
      "cell_type": "code",
      "metadata": {
        "id": "JQs1dMySsLOJ",
        "colab_type": "code",
        "colab": {
          "base_uri": "https://localhost:8080/",
          "height": 181
        },
        "outputId": "7dd6309d-3c73-4c68-8e06-8aebc8504450"
      },
      "source": [
        "for i in range(0,2):\n",
        "   for j in range(0,5):\n",
        "     if   i == 0:\n",
        "       n = i + j + 1\n",
        "       print('*' * n)\n",
        "     elif j < 4:\n",
        "       o = n - (j + 1) \n",
        "       print('*' * o)  \n",
        "     "
      ],
      "execution_count": null,
      "outputs": [
        {
          "output_type": "stream",
          "text": [
            "*\n",
            "**\n",
            "***\n",
            "****\n",
            "*****\n",
            "****\n",
            "***\n",
            "**\n",
            "*\n"
          ],
          "name": "stdout"
        }
      ]
    },
    {
      "cell_type": "code",
      "metadata": {
        "id": "tVsEsI9XuJNr",
        "colab_type": "code",
        "colab": {
          "base_uri": "https://localhost:8080/",
          "height": 54
        },
        "outputId": "8ed2a20c-18b6-4b44-b3a0-bcc18b4e9c7a"
      },
      "source": [
        "#Excercise 2 Program to print reverse order of First name \n",
        "\n",
        "Fst_Name = input('Enter your First Name :')\n",
        "\n",
        "print(Fst_Name[::-1].title())"
      ],
      "execution_count": null,
      "outputs": [
        {
          "output_type": "stream",
          "text": [
            "Enter your First Name :ineuron\n",
            "Norueni\n"
          ],
          "name": "stdout"
        }
      ]
    },
    {
      "cell_type": "code",
      "metadata": {
        "id": "CmZh9HFLyqYb",
        "colab_type": "code",
        "colab": {}
      },
      "source": [
        ""
      ],
      "execution_count": null,
      "outputs": []
    }
  ]
}