{
  "nbformat": 4,
  "nbformat_minor": 0,
  "metadata": {
    "colab": {
      "name": "Exception Handling.ipynb",
      "provenance": [],
      "collapsed_sections": []
    },
    "kernelspec": {
      "name": "python3",
      "display_name": "Python 3"
    }
  },
  "cells": [
    {
      "cell_type": "code",
      "metadata": {
        "id": "CzCVeMWtOyk4",
        "colab_type": "code",
        "colab": {}
      },
      "source": [
        "#1.Write a function to compute 5/0 and use try/except to catch the exceptions."
      ],
      "execution_count": 13,
      "outputs": []
    },
    {
      "cell_type": "code",
      "metadata": {
        "id": "08Fgbls0RQPx",
        "colab_type": "code",
        "colab": {
          "base_uri": "https://localhost:8080/",
          "height": 102
        },
        "outputId": "fa4964e5-e5e5-4db0-ead0-59fab5d2c1cc"
      },
      "source": [
        "def compute(a,b):\n",
        "  try:\n",
        "    result = a/b\n",
        "  except ZeroDivisionError as z:\n",
        "    print(\"Operation not possible:\",z)\n",
        "  except Exception as e:\n",
        "    print(\"The error is\",e)\n",
        "  else:\n",
        "    return result\n",
        "\n",
        "try:\n",
        "  a = int(input(\"Enter first Number:\"))\n",
        "  b = int(input(\"Enter second Number:\"))\n",
        "  print(\"The computed result is :\",compute(a,b))\n",
        "except ValueError as ve:\n",
        "  print(\"Input only integer\",ve)\n",
        "except Exception as e:\n",
        "  print(\"The error is\",e)\n",
        "finally:\n",
        "  print(\"Program Finished!!!!\")  "
      ],
      "execution_count": 14,
      "outputs": [
        {
          "output_type": "stream",
          "text": [
            "Enter first Number:5\n",
            "Enter second Number:0\n",
            "Operation not possible: division by zero\n",
            "The computed result is : None\n",
            "Program Finished!!!!\n"
          ],
          "name": "stdout"
        }
      ]
    },
    {
      "cell_type": "code",
      "metadata": {
        "id": "eIOFuldePuz6",
        "colab_type": "code",
        "colab": {}
      },
      "source": [
        "# 2.Implement a Python program to generate all sentences where subject is in [\"Americans\", \"Indians\"] and verb is in [\"Play\", \"watch\"] \n",
        "#and the object is in [\"Baseball\",\"cricket\"]. \n"
      ],
      "execution_count": 15,
      "outputs": []
    },
    {
      "cell_type": "code",
      "metadata": {
        "id": "dIXet0lWR6VX",
        "colab_type": "code",
        "colab": {
          "base_uri": "https://localhost:8080/",
          "height": 153
        },
        "outputId": "f6ff4882-fa43-401a-9244-37a5afed978f"
      },
      "source": [
        "from abc import ABC,abstractmethod\n",
        "class Grammer(ABC):\n",
        "  @abstractmethod\n",
        "  def sentence_builder(self,subject,verb,obj):\n",
        "    None\n",
        "\n",
        "class Sentence(Grammer):\n",
        "  def __init__(self,subject,verb,obj):\n",
        "    self.subject = subject\n",
        "    self.verb = verb\n",
        "    self.obj = obj\n",
        "\n",
        "  def sentence_builder(self):\n",
        "    for i in subject:\n",
        "      for j in verb:\n",
        "        for k in obj:\n",
        "          print(f\"{i} {j} {k}.\")\n",
        "\n",
        "#Constant lists\n",
        "subject = [\"Americans\", \"Indians\"]\n",
        "verb = [\"Play\", \"watch\"] \n",
        "obj = [\"Baseball\",\"cricket\"]\n",
        "\n",
        "try:\n",
        "  obj_sen = Sentence(subject,verb,obj)\n",
        "  obj_sen.sentence_builder()\n",
        "except NameError as ne:\n",
        "  print(f'The error is \"{ne}\"')\n",
        "except Exception as e:\n",
        "  print(\"Operation failed :\",e)\n"
      ],
      "execution_count": 24,
      "outputs": [
        {
          "output_type": "stream",
          "text": [
            "Americans Play Baseball.\n",
            "Americans Play cricket.\n",
            "Americans watch Baseball.\n",
            "Americans watch cricket.\n",
            "Indians Play Baseball.\n",
            "Indians Play cricket.\n",
            "Indians watch Baseball.\n",
            "Indians watch cricket.\n"
          ],
          "name": "stdout"
        }
      ]
    },
    {
      "cell_type": "code",
      "metadata": {
        "id": "pO0hh65rUmw5",
        "colab_type": "code",
        "colab": {}
      },
      "source": [
        ""
      ],
      "execution_count": null,
      "outputs": []
    }
  ]
}